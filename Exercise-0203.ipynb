{
 "cells": [
  {
   "cell_type": "code",
   "execution_count": 1,
   "metadata": {},
   "outputs": [
    {
     "name": "stdout",
     "output_type": "stream",
     "text": [
      "Musyaffa Abidhan Rahmat Putra\n",
      "I0322088\n",
      "C\n"
     ]
    }
   ],
   "source": [
    "print(input(\"Nama: \"))\n",
    "print(input(\"NIM: \"))\n",
    "print(input(\"Kelas: \"))"
   ]
  },
  {
   "attachments": {},
   "cell_type": "markdown",
   "metadata": {},
   "source": [
    "## 1."
   ]
  },
  {
   "attachments": {},
   "cell_type": "markdown",
   "metadata": {},
   "source": [
    "buatlah program sederhana untuk:\n",
    "* **A** mencari massa jika diketahui nilai energi potensial, percepatan gravitasi, dan ketinggian benda! beserta rumus nya!\n",
    "* **B** mencari gaya apung jika diketahui massa jenis, tinggi, panjang, dan lebar benda serta percepatan gravitasi dan contohnya! beserta rumus nya!\n",
    "* **C** Tulis program Python untuk menghitung luas dari segi lima sama sisi!\n",
    "\n",
    "> *note* : rumus, contoh, dan nilai dari tiap variabel ditentukan oleh kalian sendiri dan gunakan satuan baku (SI) untuk menghitung nilai dari tiap variabel"
   ]
  },
  {
   "cell_type": "code",
   "execution_count": 2,
   "metadata": {},
   "outputs": [
    {
     "name": "stdout",
     "output_type": "stream",
     "text": [
      "============================================================================================\n",
      "Nilai Energi Potensial Benda : 5.0 joule\n",
      "Percepatan Gravitasi         : 10.0 m/s^2\n",
      "Ketinggian Benda             : 2.0 m\n",
      "============================================================================================\n",
      "Rumus mencari massa (m) adalah Energi Potensial (Ep) / Percepatan Gravitasi (g) X Ketinggian Benda (h) \n",
      "Maka, Massa Benda tersebut adalah 0.25 kg\n"
     ]
    }
   ],
   "source": [
    "#A MENCARI MASSA PADA ENERGI POTENSIAL\n",
    "\n",
    "#INPUT NILAI\n",
    "A= float (input(\"Masukan Nilai Energi Potensial(joule) :\"))\n",
    "B= float (input(\"Masukan Percepatan Gravitasi (m/s^2):\"))\n",
    "C= float (input(\"Masukan Ketinggian Benda (m):\"))\n",
    "\n",
    "#PROSES\n",
    "\n",
    "Massa_Benda = A / (B * C)\n",
    "\n",
    "#OUTPUT\n",
    "print(\"============================================================================================\")\n",
    "print(\"Nilai Energi Potensial Benda :\",A,\"joule\")\n",
    "print(\"Percepatan Gravitasi         :\",B,\"m/s^2\")\n",
    "print(\"Ketinggian Benda             :\",C,\"m\")\n",
    "print(\"============================================================================================\")\n",
    "print(\"Rumus mencari massa (m) adalah Energi Potensial (Ep) / Percepatan Gravitasi (g) X Ketinggian Benda (h) \")\n",
    "print (\"Maka, Massa Benda tersebut adalah\",Massa_Benda,\"kg\")"
   ]
  },
  {
   "cell_type": "code",
   "execution_count": 5,
   "metadata": {},
   "outputs": [
    {
     "name": "stdout",
     "output_type": "stream",
     "text": [
      "============================================================================================\n",
      "Massa Jenis Fluida  : 1000.0 kg/m^3\n",
      "Volume Fluida       : 2000.0 m^3\n",
      "Percepatan Gravitasi: 10.0 m/s^2\n",
      "============================================================================================\n",
      "Rumus Gaya Apung (Fa) adalah Massa Jenis Fluida (ρ) x Volume Fluida (V) x Percepatan Gravitasi (g)\n",
      "Maka, Gaya Apung Fluida tersebut adalah 20000000.0 N\n"
     ]
    }
   ],
   "source": [
    "#B MENCARI NILAI GAYA APUNG\n",
    "\n",
    "#INPUT NILAI\n",
    "A= float (input(\"Masukan Massa Jenis Fluida (kg/m^3):\"))\n",
    "B= float (input(\"Masukan Tinggi Benda (m):\"))\n",
    "C= float (input(\"Masukan Panjang Benda (m):\"))\n",
    "D= float (input(\"Masukan Lebar Benda (m):\"))\n",
    "E= float (input(\"Masukan Percepatan Gravitasi (m/s^2) :\"))\n",
    "\n",
    "#PROSES\n",
    "Volume_Fluida  = B * C * D\n",
    "Gaya_Apung     = A * Volume_Fluida * E\n",
    "\n",
    "#OUTPUT\n",
    "print(\"============================================================================================\")\n",
    "print (\"Massa Jenis Fluida  :\",A,\"kg/m^3\")\n",
    "print (\"Volume Fluida       :\",Volume_Fluida,\"m^3\")\n",
    "print (\"Percepatan Gravitasi:\",E,\"m/s^2\")\n",
    "print(\"============================================================================================\")\n",
    "print (\"Rumus Gaya Apung (Fa) adalah Massa Jenis Fluida (ρ) x Volume Fluida (V) x Percepatan Gravitasi (g)\")\n",
    "print (\"Maka, Gaya Apung Fluida tersebut adalah\",Gaya_Apung,\"N\")\n"
   ]
  },
  {
   "cell_type": "code",
   "execution_count": 6,
   "metadata": {},
   "outputs": [
    {
     "name": "stdout",
     "output_type": "stream",
     "text": [
      "=========================================================================\n",
      "Panjang Sisi Segilima Sama Sisi adalah 10.0 m\n",
      "=========================================================================\n",
      "Rumus Luas Segilima Sama Sisi adalah 1.72048 x sisi^2\n",
      "Maka, Luas Segilima Sama Sisi tersebut adalah 172.048 m^2\n"
     ]
    }
   ],
   "source": [
    "#C MENCARI LUAS SEGILIMA SAMA SISI\n",
    "\n",
    "#INPUT\n",
    "A = float (input(\"Masukan Panjang Sisi Segilima (m):\"))\n",
    "\n",
    "#PROSES\n",
    "Luas_segilima = 1.72048 * A**2\n",
    "\n",
    "#OUTPUT\n",
    "print (\"=========================================================================\")\n",
    "print (\"Panjang Sisi Segilima Sama Sisi adalah\",A,\"m\")\n",
    "print (\"=========================================================================\")\n",
    "print (\"Rumus Luas Segilima Sama Sisi adalah 1.72048 x sisi^2\")\n",
    "print (\"Maka, Luas Segilima Sama Sisi tersebut adalah\", Luas_segilima ,\"m^2\" )"
   ]
  },
  {
   "attachments": {},
   "cell_type": "markdown",
   "metadata": {},
   "source": [
    "## 2."
   ]
  },
  {
   "attachments": {},
   "cell_type": "markdown",
   "metadata": {},
   "source": [
    "Taman bermain ANCOL memiliki berbagai wahana, salah satunya adalah bianglala. Harga tiket yang dijual berbeda tergantung dengan kategori nya. Harga tiket bagi orang dewasa atau yang berumur lebih dari 17 tahun adalah Rp 110.000 , harga tiket untuk anak-anak usia 6-16 tahun adalah Rp. 75.000 , sedangkan untuk usia dibawahnya tidak dikenakan biaya. Pada wahana bianglala sedang ada \"Promo RAMADHAN\" sebesar 20% bagi pembelian tiket lebih dari 2 pcs.\n",
    "\n",
    "Keluarga Anya Forger ingin menaiki wahana bianglala tersebut, Anya (usia 18 tahun) pergi bersama ayah dan ibunya beserta dua adiknya, Harry (usia 8 tahun) dan Taylor (usia 4 tahun). \n",
    "\n",
    "> Buatlah program sederhana untuk menghitung harga total dari pembelian tiket  oleh keluarga Anya dan harga tiket setelah mendapatkan diskon"
   ]
  },
  {
   "cell_type": "code",
   "execution_count": 7,
   "metadata": {},
   "outputs": [
    {
     "name": "stdout",
     "output_type": "stream",
     "text": [
      "============================================================================\n",
      "Keluarga Anya yang ikut menaiki bianglala adalah Ayah Anya, Ibu Anya, Anya, Harry, Taylor\n",
      "Jumlah Tiket Dewasa     : 3\n",
      "Jumlah Tiket Anak-Anak  : 1\n",
      "Jumlah Tiket Balita     : 1\n",
      "============================================================================\n",
      "====================Selamat mendapatkan diskon 20%=========================\n",
      "Total biaya  yang harus dibayarkan sebelum diskon adalah 405.0 ribu rupiah\n",
      "Jumlah Potongan Harga adalah 81.0 ribu rupiah\n",
      "Maka, Total biaya yang harus dibayarkan keluarga Anya setelah diskon adalah 324.0 ribu rupiah\n"
     ]
    }
   ],
   "source": [
    "#PERHITUNGAN TIKET BIANG LALA KELUARGA ANYA\n",
    "\n",
    "#INPUT\n",
    "Keluarga_Anya= input(\"Siapa saja Keluarga Anya yang ikut menaiki Bianglala ?\")\n",
    "\n",
    "A= int(input (\"Jumlah Tiket Dewasa (>17 Tahun) :\"))\n",
    "B= int(input (\"Jumlah Tiket Anak-Anak (6-16 Tahun):\"))\n",
    "C= int(input (\"Jumlah Tiket Balita (<6 Tahun):\"))\n",
    "\n",
    "#PROSES HARGA \n",
    "Harga_Dewasa = A * 110.000\n",
    "Harga_Anak  = B * 75.000\n",
    "Harga_Balita = C * 0\n",
    "jumlah_tiket = A + B + C\n",
    "Jumlah_Biaya = Harga_Dewasa + Harga_Anak + Harga_Balita\n",
    "\n",
    "#OUTPUT \n",
    "print (\"============================================================================\")\n",
    "print (\"Keluarga Anya yang ikut menaiki bianglala adalah\",Keluarga_Anya)\n",
    "print (\"Jumlah Tiket Dewasa     :\",A)\n",
    "print (\"Jumlah Tiket Anak-Anak  :\",B)\n",
    "print (\"Jumlah Tiket Balita     :\",C)\n",
    "print (\"============================================================================\")\n",
    "\n",
    "if jumlah_tiket>2:\n",
    "    print(\"====================Selamat mendapatkan diskon 20%=========================\")\n",
    "    Potongan = Jumlah_Biaya * 20 / 100 \n",
    "    Jumlah_TotalBiaya = Jumlah_Biaya - Potongan\n",
    "    print (\"Total biaya  yang harus dibayarkan sebelum diskon adalah\",Jumlah_Biaya,\"ribu rupiah\")\n",
    "    print (\"Jumlah Potongan Harga adalah\",Potongan,\"ribu rupiah\")\n",
    "    print (\"Maka, Total biaya yang harus dibayarkan keluarga Anya setelah diskon adalah\",Jumlah_TotalBiaya,\"ribu rupiah\")\n",
    " \n",
    "else:\n",
    "    Jumlah_Biaya\n",
    "    print (\"Maka, Total biaya yang harus dibayarkan keluarga Anya adalah\",Jumlah_Biaya,\"ribu rupiah\")\n",
    "    "
   ]
  },
  {
   "attachments": {},
   "cell_type": "markdown",
   "metadata": {},
   "source": [
    "## 3. "
   ]
  },
  {
   "attachments": {},
   "cell_type": "markdown",
   "metadata": {},
   "source": [
    "diberikan list aslab sebagai berikut:\n",
    "```python\n",
    "list_aslab = [\n",
    "    {\"nama\": \"Berlian Safri Prakoso\", \"nim\": \"I0320017\", \"kontak\": \"0858XXXXXXXX\"},\n",
    "    {\"nama\": \"Halidya Siti Hanifah\", \"nim\": \"I0320044\", \"kontak\": \"0878XXXXXXXX\"},\n",
    "    {\"nama\": \"Nurki Putra Mahardika\", \"nim\": \"I0320076\", \"kontak\": \"0877XXXXXXXX\"},\n",
    "    {\"nama\": \"Aji Manarul Aziz\", \"nim\": \"I0320119\", \"kontak\": \"0812XXXXXXXX\"},\n",
    "    {\"nama\": \"Alica Ayu Fitriani\", \"nim\": \"I0320121\", \"kontak\": \"0896XXXXXXXX\"},\n",
    "    {\"nama\": \"Dendy Halim Kusuma\", \"nim\": \"I0320125\", \"kontak\": \"0822XXXXXXXX\"}\n",
    "]\n",
    "```\n",
    "* **A** Tuliskan kode untuk mengakses informasi tentang \"nama\" dari semua aslab mulai dari index 1 sampai 5\n",
    "* **B** Tambahkan informasi berikut pada data aslab dan tampilkan hasilnya:\n",
    "```python\n",
    "    surel = [\"berlian@student.uns.ac.id\",\n",
    "          \"halidya@student.uns.ac.id\",\n",
    "          \"nurki@student.uns.ac.id\",\n",
    "          \"manarul@student.uns.ac.id\",\n",
    "          \"alica@student.uns.ac.id\",\n",
    "          \"dendy@student.uns.ac.id\"]\n",
    "```\n",
    "* **C** Hapus nilai pada kunci \"kontak\" pada list aslab dan tampilkan hasilnya\n",
    "> *note: kalian hanya boleh menggunakan key-value pair yang disebutkan di dalam teks, tanpa menggunakan informasi tambahan yang diambil pada list yang ada*"
   ]
  },
  {
   "cell_type": "code",
   "execution_count": 36,
   "metadata": {},
   "outputs": [
    {
     "name": "stdout",
     "output_type": "stream",
     "text": [
      "Halidya Siti Hanifah\n",
      "Nurki Putra Mahardika\n",
      "Aji Manarul Aziz\n",
      "Alica Ayu Fitriani\n",
      "Dendy Halim Kusuma\n"
     ]
    }
   ],
   "source": [
    "#A KODE MENGAKSES NAMA ASLAB MULAI INDEX 1-5 PADA LIST ASLAB\n",
    "list_aslab = [\n",
    "    {\"nama\": \"Berlian Safri Prakoso\", \"nim\": \"I0320017\", \"kontak\": \"0858XXXXXXXX\"},\n",
    "    {\"nama\": \"Halidya Siti Hanifah\", \"nim\": \"I0320044\", \"kontak\": \"0878XXXXXXXX\"},\n",
    "    {\"nama\": \"Nurki Putra Mahardika\", \"nim\": \"I0320076\", \"kontak\": \"0877XXXXXXXX\"},\n",
    "    {\"nama\": \"Aji Manarul Aziz\", \"nim\": \"I0320119\", \"kontak\": \"0812XXXXXXXX\"},\n",
    "    {\"nama\": \"Alica Ayu Fitriani\", \"nim\": \"I0320121\", \"kontak\": \"0896XXXXXXXX\"},\n",
    "    {\"nama\": \"Dendy Halim Kusuma\", \"nim\": \"I0320125\", \"kontak\": \"0822XXXXXXXX\"}\n",
    "]\n",
    "for y in range(1, len(list_aslab)):\n",
    "    print(list_aslab[y]['nama'])"
   ]
  },
  {
   "cell_type": "code",
   "execution_count": 37,
   "metadata": {},
   "outputs": [
    {
     "name": "stdout",
     "output_type": "stream",
     "text": [
      "{'nama': 'Berlian Safri Prakoso', 'nim': 'I0320017', 'kontak': '0858XXXXXXXX', 'surel': 'berlian@student.uns.ac.id'}\n",
      "{'nama': 'Halidya Siti Hanifah', 'nim': 'I0320044', 'kontak': '0878XXXXXXXX', 'surel': 'halidya@student.uns.ac.id'}\n",
      "{'nama': 'Nurki Putra Mahardika', 'nim': 'I0320076', 'kontak': '0877XXXXXXXX', 'surel': 'nurki@student.uns.ac.id'}\n",
      "{'nama': 'Aji Manarul Aziz', 'nim': 'I0320119', 'kontak': '0812XXXXXXXX', 'surel': 'manarul@student.uns.ac.id'}\n",
      "{'nama': 'Alica Ayu Fitriani', 'nim': 'I0320121', 'kontak': '0896XXXXXXXX', 'surel': 'alica@student.uns.ac.id'}\n",
      "{'nama': 'Dendy Halim Kusuma', 'nim': 'I0320125', 'kontak': '0822XXXXXXXX', 'surel': 'dendy@student.uns.ac.id'}\n"
     ]
    }
   ],
   "source": [
    "#B MENAMBAHKAN INFORMASI SUREL PADA LIST ASLAB\n",
    "\n",
    "surel = [\"berlian@student.uns.ac.id\",\n",
    "          \"halidya@student.uns.ac.id\",\n",
    "          \"nurki@student.uns.ac.id\",\n",
    "          \"manarul@student.uns.ac.id\",\n",
    "          \"alica@student.uns.ac.id\",\n",
    "          \"dendy@student.uns.ac.id\"]\n",
    "for y in range(len(list_aslab)):\n",
    "    list_aslab[y]['surel']= surel[y]\n",
    "\n",
    "for aslab in list_aslab:\n",
    "    print(aslab)"
   ]
  },
  {
   "cell_type": "code",
   "execution_count": 38,
   "metadata": {},
   "outputs": [
    {
     "name": "stdout",
     "output_type": "stream",
     "text": [
      "{'nama': 'Berlian Safri Prakoso', 'nim': 'I0320017', 'surel': 'berlian@student.uns.ac.id'}\n",
      "{'nama': 'Halidya Siti Hanifah', 'nim': 'I0320044', 'surel': 'halidya@student.uns.ac.id'}\n",
      "{'nama': 'Nurki Putra Mahardika', 'nim': 'I0320076', 'surel': 'nurki@student.uns.ac.id'}\n",
      "{'nama': 'Aji Manarul Aziz', 'nim': 'I0320119', 'surel': 'manarul@student.uns.ac.id'}\n",
      "{'nama': 'Alica Ayu Fitriani', 'nim': 'I0320121', 'surel': 'alica@student.uns.ac.id'}\n",
      "{'nama': 'Dendy Halim Kusuma', 'nim': 'I0320125', 'surel': 'dendy@student.uns.ac.id'}\n"
     ]
    }
   ],
   "source": [
    "#C MENGHAPUS VARIABLE DATA KONTAK PADA LIST ASLAB\n",
    "\n",
    "for aslab in list_aslab:\n",
    "    del aslab['kontak']\n",
    "    print(aslab)"
   ]
  }
 ],
 "metadata": {
  "kernelspec": {
   "display_name": "Python 3",
   "language": "python",
   "name": "python3"
  },
  "language_info": {
   "codemirror_mode": {
    "name": "ipython",
    "version": 3
   },
   "file_extension": ".py",
   "mimetype": "text/x-python",
   "name": "python",
   "nbconvert_exporter": "python",
   "pygments_lexer": "ipython3",
   "version": "3.11.2"
  },
  "orig_nbformat": 4,
  "vscode": {
   "interpreter": {
    "hash": "5addf786bcd861d1ce5006f23111f8cbb206731e5b61b0a5632ba9e0252558a8"
   }
  }
 },
 "nbformat": 4,
 "nbformat_minor": 2
}
