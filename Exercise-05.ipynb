{
 "cells": [
  {
   "attachments": {},
   "cell_type": "markdown",
   "metadata": {},
   "source": [
    "1. Buatlah program untuk menghitung pangkat 2 dari angka 1 hingga 50!"
   ]
  },
  {
   "cell_type": "code",
   "execution_count": 1,
   "metadata": {},
   "outputs": [
    {
     "name": "stdout",
     "output_type": "stream",
     "text": [
      "1 pangkat 2 =1\n",
      "2 pangkat 2 =4\n",
      "3 pangkat 2 =9\n",
      "4 pangkat 2 =16\n",
      "5 pangkat 2 =25\n",
      "6 pangkat 2 =36\n",
      "7 pangkat 2 =49\n",
      "8 pangkat 2 =64\n",
      "9 pangkat 2 =81\n",
      "10 pangkat 2 =100\n",
      "11 pangkat 2 =121\n",
      "12 pangkat 2 =144\n",
      "13 pangkat 2 =169\n",
      "14 pangkat 2 =196\n",
      "15 pangkat 2 =225\n",
      "16 pangkat 2 =256\n",
      "17 pangkat 2 =289\n",
      "18 pangkat 2 =324\n",
      "19 pangkat 2 =361\n",
      "20 pangkat 2 =400\n",
      "21 pangkat 2 =441\n",
      "22 pangkat 2 =484\n",
      "23 pangkat 2 =529\n",
      "24 pangkat 2 =576\n",
      "25 pangkat 2 =625\n",
      "26 pangkat 2 =676\n",
      "27 pangkat 2 =729\n",
      "28 pangkat 2 =784\n",
      "29 pangkat 2 =841\n",
      "30 pangkat 2 =900\n",
      "31 pangkat 2 =961\n",
      "32 pangkat 2 =1024\n",
      "33 pangkat 2 =1089\n",
      "34 pangkat 2 =1156\n",
      "35 pangkat 2 =1225\n",
      "36 pangkat 2 =1296\n",
      "37 pangkat 2 =1369\n",
      "38 pangkat 2 =1444\n",
      "39 pangkat 2 =1521\n",
      "40 pangkat 2 =1600\n",
      "41 pangkat 2 =1681\n",
      "42 pangkat 2 =1764\n",
      "43 pangkat 2 =1849\n",
      "44 pangkat 2 =1936\n",
      "45 pangkat 2 =2025\n",
      "46 pangkat 2 =2116\n",
      "47 pangkat 2 =2209\n",
      "48 pangkat 2 =2304\n",
      "49 pangkat 2 =2401\n",
      "50 pangkat 2 =2500\n"
     ]
    }
   ],
   "source": [
    "# Kerjakan nomor 1 di sini\n",
    "\n",
    "for i in range (1,51):\n",
    "    hasilpangkat = i ** 2\n",
    "    print (f\"{i} pangkat 2 ={hasilpangkat}\")"
   ]
  },
  {
   "attachments": {},
   "cell_type": "markdown",
   "metadata": {},
   "source": [
    "2. Buatlah sebuah list yang berisi daftar nama mahasiswa angkatan kalian minimal sejumlah 10 nama. Kemudian buat program pencarian menggunakan pengulangan, di mana apabila nama yang user inputkan sudah sesuai dengan isi list maka program akan berhenti dan menampilkan output \"Pencarian anda sudah berakhir\""
   ]
  },
  {
   "attachments": {},
   "cell_type": "markdown",
   "metadata": {},
   "source": [
    "catatan: perhatikan user dapat menginputkan menggunakan baik huruf kapital maupun tidak"
   ]
  },
  {
   "cell_type": "code",
   "execution_count": 2,
   "metadata": {},
   "outputs": [
    {
     "name": "stdout",
     "output_type": "stream",
     "text": [
      "abed\n",
      "lutpi\n",
      "nopal\n",
      "dani\n",
      "rafi\n",
      "hanip :====================Pencarian Anda Sudah Berakhir====================\n"
     ]
    }
   ],
   "source": [
    "# Kerjakan nomor 2 di sini\n",
    "\n",
    "#LIST DATA\n",
    "nama_mahasiswa = [\"abed\",\"lutpi\",\"nopal\",\"dani\",\"rafi\",\"hanip\",\"akmal\",\"biun\",\"dapa\",\"yusuf\"]\n",
    "\n",
    "#INPUT\n",
    "A = input (\"Masukan Nama Mahasiswa:\")\n",
    "A = A.lower()\n",
    "\n",
    "for i in nama_mahasiswa:\n",
    "    if A == i:\n",
    "        print (f\"{i} :====================Pencarian Anda Sudah Berakhir====================\")\n",
    "        break\n",
    "    print (i)\n",
    "\n"
   ]
  },
  {
   "attachments": {},
   "cell_type": "markdown",
   "metadata": {},
   "source": [
    "3. Disajikan list sebagai berikut "
   ]
  },
  {
   "cell_type": "code",
   "execution_count": null,
   "metadata": {},
   "outputs": [],
   "source": [
    "bulan = ['januari', 'februari', 'maret', 'april','mei','juni','juli','agustus','september','oktober','november','desember']\n",
    "kota = ['jakarta' , 'kuala lumpur', 'bangkok', 'seoul', 'canada','london','dubai','barcelona']"
   ]
  },
  {
   "attachments": {},
   "cell_type": "markdown",
   "metadata": {},
   "source": [
    "Robert adalah seorang penyanyi terkenal. Dia merencanakan konser world tour di tahun 2024 mendatang di berbagai negara. Dengan catatan pada bulan April dan Mei, Robert kembali ke indonesia untuk istirahat sejenak kemudian melanjutkan lagi konser. Berdasarkan kasus tersebut buatlah program pengulangannya!"
   ]
  },
  {
   "cell_type": "code",
   "execution_count": 1,
   "metadata": {},
   "outputs": [
    {
     "name": "stdout",
     "output_type": "stream",
     "text": [
      "Pada bulan januari, Robert akan konser di kota jakarta\n",
      "Pada bulan februari, Robert akan konser di kota kuala lumpur\n",
      "Pada bulan maret, Robert akan konser di kota bangkok\n",
      "Pada bulan april, Robert akan istirahat sejenak dari konser\n",
      "Pada bulan mei, Robert akan istirahat sejenak dari konser\n",
      "Pada bulan juni, Robert akan konser di kota seoul\n",
      "Pada bulan juli, Robert akan konser di kota canada\n",
      "Pada bulan agustus, Robert akan konser di kota london\n",
      "Pada bulan september, Robert akan konser di kota dubai\n",
      "Pada bulan oktober, Robert akan konser di kota barcelona\n",
      "Pada bulan november, Robert akan konser di kota jakarta\n",
      "Pada bulan desember, Robert akan konser di kota kuala lumpur\n"
     ]
    }
   ],
   "source": [
    "# kerjakan nomor 3 di sini\n",
    "\n",
    "#LIST DATA\n",
    "bulan = ['januari', 'februari', 'maret', 'april','mei','juni','juli','agustus','september','oktober','november','desember']\n",
    "kota = ['jakarta' , 'kuala lumpur', 'bangkok', 'seoul', 'canada','london','dubai','barcelona']\n",
    "\n",
    "#PROSES\n",
    "y = 0\n",
    "\n",
    "for x in bulan:\n",
    "    if x in [\"april\",\"mei\"]:\n",
    "        print (f\"Pada bulan {x}, Robert akan istirahat sejenak dari konser\")\n",
    "        continue\n",
    "    print (f\"Pada bulan {x}, Robert akan konser di kota\", kota [y])\n",
    "    y+= 1\n",
    "    if y == 8:\n",
    "        y = 0"
   ]
  }
 ],
 "metadata": {
  "kernelspec": {
   "display_name": "Python 3",
   "language": "python",
   "name": "python3"
  },
  "language_info": {
   "codemirror_mode": {
    "name": "ipython",
    "version": 3
   },
   "file_extension": ".py",
   "mimetype": "text/x-python",
   "name": "python",
   "nbconvert_exporter": "python",
   "pygments_lexer": "ipython3",
   "version": "3.11.2"
  },
  "orig_nbformat": 4
 },
 "nbformat": 4,
 "nbformat_minor": 2
}
