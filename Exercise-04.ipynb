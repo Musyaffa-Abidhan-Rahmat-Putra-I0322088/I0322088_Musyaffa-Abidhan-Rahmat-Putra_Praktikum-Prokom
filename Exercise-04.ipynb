{
 "cells": [
  {
   "cell_type": "code",
   "execution_count": null,
   "metadata": {},
   "outputs": [
    {
     "name": "stdout",
     "output_type": "stream",
     "text": [
      "Musyaffa Abidhan Rahmat Putra\n",
      "I0322088\n",
      "C\n"
     ]
    }
   ],
   "source": [
    "print(input(\"Nama: \"))\n",
    "print(input(\"NIM: \"))\n",
    "print(input(\"Kelas: \"))"
   ]
  },
  {
   "attachments": {},
   "cell_type": "markdown",
   "metadata": {},
   "source": [
    "## 1."
   ]
  },
  {
   "attachments": {},
   "cell_type": "markdown",
   "metadata": {},
   "source": [
    "Buatlah program yang menampilkan tarif pajak yang harus dibayarkan oleh user dengan input yaitu nama user dan pendapatan dari user.<br>\n",
    "Dengan ketentuan sebagai berikut:\n",
    "* Jika pendapatan kurang dari atau sama dengan 10 juta, maka tarif pajak adalah 2,5%\n",
    "* Jika pendapatan kurang dari atau sama dengan 20 juta, maka tarif pajak adalah 5%\n",
    "* Jika pendapatan kurang dari atau sama dengan 50 juta, maka tarif pajak adalah 10%.\n",
    "* Jika pendapatan lebih dari 50 juta, maka tarif pajak adalah 12,5%.\n",
    "> *note: Kerjakan soal ini dengan percabangan*"
   ]
  },
  {
   "cell_type": "code",
   "execution_count": 9,
   "metadata": {},
   "outputs": [
    {
     "name": "stdout",
     "output_type": "stream",
     "text": [
      "Nama: Musyaffa Abidhan Rahmat Putra\n",
      "Jumlah Pendapatan Anda: 100000000 rupiah\n",
      "========================================================\n",
      "Tarif Pajak Dari Pendapatan Anda Adalah 12,5%\n",
      "Jumlah Pajak Yang Harus Anda Bayarkan: 12500000.0 rupiah\n",
      "========================================================\n"
     ]
    }
   ],
   "source": [
    "# Kerjakan soal no 1 di sini\n",
    "\n",
    "#INPUT\n",
    "A = str (input(\"Masukan Nama Anda:\"))\n",
    "B = int(input(\"Masukan Pendapatan Anda (dalam rupiah):\"))\n",
    "\n",
    "#OUTPUT\n",
    "if B <= 10000000:\n",
    "    tax = B * (1 / 40)\n",
    "    print (\"Nama:\",A)\n",
    "    print (\"Jumlah Pendapatan Anda:\",B,\"rupiah\")\n",
    "    print (\"========================================================\")\n",
    "    print (\"Tarif Pajak Dari Pendapatan Anda Adalah 2,5%\")\n",
    "    print (\"Maka, Jumlah Pajak Yang Harus Anda Bayarkan:\",tax,\"rupiah\")\n",
    "    print (\"========================================================\")\n",
    "elif B <=  20000000:\n",
    "    tax = B * (1 / 20)\n",
    "    print (\"Nama:\",A)\n",
    "    print (\"Jumlah Pendapatan Anda:\",B,\"rupiah\")\n",
    "    print (\"========================================================\")\n",
    "    print (\"Tarif Pajak Dari Pendapatan Anda Adalah 5%\")\n",
    "    print (\"Maka, Jumlah Pajak Yang Harus Anda Bayarkan:\",tax,\"rupiah\")\n",
    "    print (\"========================================================\")\n",
    "elif B <=  50000000:\n",
    "    tax = B * (1 /10)\n",
    "    print (\"Nama:\",A)\n",
    "    print (\"Jumlah Pendapatan Anda:\",B,\"rupiah\")\n",
    "    print (\"========================================================\")\n",
    "    print (\"Tarif Pajak Dari Pendapatan Anda Adalah 10% \")\n",
    "    print (\"Jumlah Pajak Yang Harus Anda Bayarkan:\",tax,\"rupiah\")\n",
    "    print (\"========================================================\")\n",
    "elif B > 50000000:\n",
    "    tax = B * (1 / 8)\n",
    "    print (\"Nama:\",A)\n",
    "    print (\"Jumlah Pendapatan Anda:\",B,\"rupiah\")\n",
    "    print (\"========================================================\")\n",
    "    print (\"Tarif Pajak Dari Pendapatan Anda Adalah 12,5%\")\n",
    "    print (\"Jumlah Pajak Yang Harus Anda Bayarkan:\",tax,\"rupiah\")\n",
    "    print (\"========================================================\")"
   ]
  },
  {
   "attachments": {},
   "cell_type": "markdown",
   "metadata": {},
   "source": [
    "## 2."
   ]
  },
  {
   "attachments": {},
   "cell_type": "markdown",
   "metadata": {},
   "source": [
    "Buatlah program yang menampilkan akan melakukan validasi apakah mahasiswa tersebut berasal dari TI UNS berdasarkan NIM yang diinput oleh user:\n",
    "<br>Dengan ketentuan sebagai berikut:\n",
    "* NIM mahasiswa TI harus dimulai dengan \"I03\" dengan total panjang 8 karakter (I0320078 adalah contoh NIM mahasiswa TI UNS)\n",
    "* Program akan menampilkan pesan \"NIM mahasiswa TI UNS\" jika NIM yang dimasukkan sesuai dengan format yang dijelaskan di atas, dan akan menampilkan pesan \"NIM Anda tidak valid\" jika tidak sesuai.\n",
    "> *note: Kerjakan soal ini dengan percabangan*"
   ]
  },
  {
   "cell_type": "code",
   "execution_count": 11,
   "metadata": {},
   "outputs": [
    {
     "name": "stdout",
     "output_type": "stream",
     "text": [
      "I0322088 : NIM Mahasiswa TI UNS\n"
     ]
    }
   ],
   "source": [
    "# Kerjakan soal no 2 di sini\n",
    "\n",
    "NIM = input(\"Masukan NIM Anda:\")\n",
    "\n",
    "if len(NIM)==8 and NIM[0:3]==\"I03\":\n",
    "    print (NIM, \": NIM Mahasiswa TI UNS\")\n",
    "else:\n",
    "    print (NIM,\":NIM Anda Tidak Valid\")\n"
   ]
  }
 ],
 "metadata": {
  "kernelspec": {
   "display_name": "Python 3",
   "language": "python",
   "name": "python3"
  },
  "language_info": {
   "codemirror_mode": {
    "name": "ipython",
    "version": 3
   },
   "file_extension": ".py",
   "mimetype": "text/x-python",
   "name": "python",
   "nbconvert_exporter": "python",
   "pygments_lexer": "ipython3",
   "version": "3.11.2"
  },
  "orig_nbformat": 4
 },
 "nbformat": 4,
 "nbformat_minor": 2
}
